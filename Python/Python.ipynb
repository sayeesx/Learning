{
 "cells": [
  {
   "cell_type": "markdown",
   "id": "37687af8-f5d3-4020-ac08-c83df6ea6017",
   "metadata": {},
   "source": [
    "# Python\n",
    " __string__ **string** <br> _string_ *string* \n",
    " > intending    $+$ $-$ for entering maths symbols\n",
    "\n",
    "`--Type with no bold--`"
   ]
  },
  {
   "cell_type": "code",
   "execution_count": 2,
   "id": "058da1ed-8c7b-4c69-8404-d26e382d3f36",
   "metadata": {
    "jp-MarkdownHeadingCollapsed": true
   },
   "outputs": [
    {
     "name": "stdout",
     "output_type": "stream",
     "text": [
      "140715044579896\n"
     ]
    },
    {
     "name": "stdout",
     "output_type": "stream",
     "text": [
      "Enter a number :  25\n"
     ]
    },
    {
     "name": "stdout",
     "output_type": "stream",
     "text": [
      "Inputed number is  25 is a <class 'int'>\n",
      "Number inputed is a Int?  True\n",
      "The adress of the variable inputed is :  140715044580536\n"
     ]
    }
   ],
   "source": [
    "## print(\"Hello World\")\n",
    "# multipl line comment ''' or \"\"\"\n",
    "\"\"\"\n",
    "a -  add one cell above\n",
    "b - add one cell below\n",
    "dd - delete the cell\n",
    "z - undo\n",
    "r - raw cell\n",
    "m - markdown\n",
    "y - code\n",
    "\"\"\"\n",
    "w = 5\n",
    "print(id(w))    # adress of w\n",
    "a = int(input(\"Enter a number : \"))\n",
    "print(\"Inputed number is \",a,\"is a\",type(a))\n",
    "print(\"Number inputed is a Int? \",isinstance(a,int))\n",
    "print(\"The adress of the variable inputed is : \",id(a))"
   ]
  },
  {
   "cell_type": "markdown",
   "id": "272463f2-537f-4436-be18-f3e47e3dcfd5",
   "metadata": {},
   "source": [
    "# String "
   ]
  },
  {
   "cell_type": "code",
   "execution_count": 1,
   "id": "0a117ea8-bb94-4f54-98f1-b51d886f6d51",
   "metadata": {},
   "outputs": [
    {
     "name": "stdout",
     "output_type": "stream",
     "text": [
      " Thomas Mathew\n",
      "h\te\n",
      " Thoma\n",
      " hmsMte\n",
      " \n",
      "True\n",
      "Thomas is a programmer at age of 22.\n",
      "6\n",
      "T h o m a s \n",
      "\tHi\n",
      "THOMAS\n",
      " ThomAs MAthew\n",
      " no name\n",
      "['no', 'name']\n",
      "no\n",
      "no name\n"
     ]
    }
   ],
   "source": [
    "# dir(str) - gives all the method for string\n",
    "fname=\"Thomas\"\n",
    "lname=\"Mathew\"\n",
    "fullname=\" \"+fname+\" \"+lname  # concatenation\n",
    "print(fullname)\n",
    "print(fullname[2],fullname[-2],sep=\"\\t\")\n",
    "print(fullname[0:6])      # slicing from 0 to 5\n",
    "print(fullname[0::2])     # slicing with step size 2\n",
    "print(fullname[0::-1])    # gives empty string\n",
    "print(\"Thomas\" in fullname)\n",
    "age = 22\n",
    "print(\"{} is a programmer at age of {}.\".format(fname,age))    # formatting \n",
    "print(len(fname))\n",
    "for s in fname:\n",
    "    print(s,end=\" \")\n",
    "if \"Thomas\" in fullname:\n",
    "    print(\"\\n\\tHi\")\n",
    "# Upper() & lower() \n",
    "# capitalize() - only first letter of first word to capital\n",
    "# strip() removes white spaces before & anfer the text\n",
    "print(fname.upper())\n",
    "print(fullname.replace(\"a\",\"A\"))\n",
    "print(fullname.replace(\"Thomas Mathew\",\"no name\"))  # helps edit the data\n",
    "fullname = fullname.replace(\"Thomas Mathew\",\"no name\")\n",
    "print(fullname.split())\n",
    "y,z = fullname.split()\n",
    "print(y)\n",
    "print(fullname.strip())"
   ]
  },
  {
   "cell_type": "code",
   "execution_count": 2,
   "id": "bb52c7bf-3d8b-484f-8aef-dabfc970e502",
   "metadata": {},
   "outputs": [
    {
     "name": "stdout",
     "output_type": "stream",
     "text": [
      "Muhammed sayees\n",
      "seeyas demmahuM\n",
      "Muhammed sayees ------------- Reversed in the previous line and now turned back\n",
      "('Natural Language Processing with python ', 'and', ' R and Java')\n",
      "8\n",
      "&&&&&&&&    ****Funny Statement*********     %&&&&&&\n",
      "****Funny Statement*********     %\n",
      "Funny Statement\n",
      "Natural Language Processing With Python And R And Java\n",
      "Natural language processing with python and r and java\n"
     ]
    }
   ],
   "source": [
    "fullname = \"Muhammed sayees\"\n",
    "print(fullname)\n",
    "fullname = \"\".join(reversed(fullname))\n",
    "print(fullname)\n",
    "print(fullname[::-1],\"------------- Reversed in the previous line and now turned back\")\n",
    "par = \"Natural Language Processing with python and R and Java\"\n",
    "print(par.partition(\"and\"))       # Split the sentense at the first specified word\n",
    "print(par.count(\"a\"))\n",
    "a = \"             &&&&&&&&    ****Funny Statement*********     %&&&&&&     \"  \n",
    "print(a.strip())                  # Strip applications\n",
    "print(a.strip(\" &\"))\n",
    "print(a.strip(\" &*%\"))\n",
    "print(par.title())                # Every word first letter capital\n",
    "print(par.capitalize())  "
   ]
  },
  {
   "cell_type": "markdown",
   "id": "c3d2c168-7807-430f-9ff8-00bc63fd58eb",
   "metadata": {},
   "source": [
    "# List\n",
    "> - Square Brackets []"
   ]
  },
  {
   "cell_type": "code",
   "execution_count": 5,
   "id": "5820c4cc-5362-40c9-a0c5-bb7b5aed5d82",
   "metadata": {},
   "outputs": [
    {
     "name": "stdout",
     "output_type": "stream",
     "text": [
      "job  1  2  3  hj  \n",
      "hj\n",
      "['job', 1, 2]\n",
      "['job', 1, 2, 3, 'hj']\n",
      "\n",
      "----------------------Insertion and Deletion----------------------------\n",
      "[2, 'job', 1, 2, 3, 'hj', 10, 6, 7]\n",
      "['job', 1, 2, 3, 10, 6]\n",
      "\n",
      "-------------------Printing Methods-------------------------------\n",
      "[6, 3, 1]\n",
      "[3, 10, 6]\n",
      "['job', 1, 2, 3, 10, 6]\n",
      "['job', 1, 6]\n",
      "\n",
      "-----------------Lenth and Nested List---------------------------------\n",
      "3\n",
      "[['job', 1, 6], ['job', 1, 6]]\n",
      "x[1][0] = job\n",
      "\n",
      "--------------------List with Same Elements------------------------------\n",
      "[2, 2, 2, 2, 2]\n",
      "True\n",
      "\n",
      "----------------------Matrix ----------------------------\n",
      "4\n",
      "[[1, 9, 3, 4, 4], [2, 3, 4, 5, 6]]\n",
      "\n",
      "----------------------Operations on list----------------------------\n",
      "['job', 1, 6]\n",
      "1\n",
      "0\n",
      "[6, 1, 'job']\n",
      "[]\n"
     ]
    }
   ],
   "source": [
    "lists=[\"job\",1,2,3,\"hj\"]   # empty list -> l = []   or   l = list()\n",
    "for i in lists:\n",
    "    print(i,end=\"  \")\n",
    "print(\"\\n\"+lists[4])\n",
    "print(lists[0:3])\n",
    "print(lists)\n",
    "a = lists\n",
    "id(a) == id(lists)  # refer the same element,i.e, a and b will have same val no matter what chane is made\n",
    "print(\"\\n----------------------Insertion and Deletion----------------------------\")\n",
    "lists.append(10)    # add new element to the end\n",
    "lists.extend([6,7]) # add multiple elements\n",
    "lists.insert(0,2)   # insert 2 at loc 0\n",
    "print(lists) \n",
    "lists.remove(\"hj\")  # delete the element\n",
    "lists.pop(0)        # delete element at loc 0\n",
    "del lists[6]        # delete from loc 6 or \"del lists\" deletes the whole list\n",
    "print(lists)\n",
    "print(\"\\n-------------------Printing Methods-------------------------------\")\n",
    "print(lists[-1:-6:-2])\n",
    "print(lists[-3:])\n",
    "print(a)\n",
    "a[2:5] = []\n",
    "print(a)\n",
    "print(\"\\n-----------------Lenth and Nested List---------------------------------\")\n",
    "print(len(a))    # length \n",
    "x = [lists,a]    # nested list\n",
    "print(x)\n",
    "print(\"x[1][0] =\",x[1][0])\n",
    "print(\"\\n--------------------List with Same Elements------------------------------\")\n",
    "b = [2]*5\n",
    "print(b)\n",
    "print(2 in b)\n",
    "print(\"\\n----------------------Matrix ----------------------------\")\n",
    "matrix= [[1,9,3,4,4],[2,3,4,5,6]]\n",
    "print(matrix[1][2])\n",
    "print(matrix)\n",
    "print(\"\\n----------------------Operations on list----------------------------\")\n",
    "print(lists)\n",
    "print(lists.count(\"job\"))\n",
    "print(lists.index(\"job\"))\n",
    "a.reverse()\n",
    "print(a)\n",
    "# print(a.sort())  --  can't sort, different data types\n",
    "a.clear()\n",
    "print(a)"
   ]
  },
  {
   "cell_type": "markdown",
   "id": "11ecdafa-d225-4f5d-8957-9a68ba4fe661",
   "metadata": {},
   "source": [
    "### Tuple  \n",
    "> - immutable\n",
    "> - Parenthesis()"
   ]
  },
  {
   "cell_type": "code",
   "execution_count": 5,
   "id": "82747998-ea1b-4d95-8124-1ffdf9144532",
   "metadata": {},
   "outputs": [
    {
     "name": "stdout",
     "output_type": "stream",
     "text": [
      "(3, 4, 5, 'hj')\n",
      "((3, 4, 5, 'hj'), (1, 9, 4, 11))\n",
      "('Hellow',)\n",
      "2\n",
      "hj\n",
      "(3, 4, 5, 'hj', 'Hellow')\n",
      "('Hellow', 'Hellow', 'Hellow')\n",
      "True\n",
      "False\n"
     ]
    }
   ],
   "source": [
    "t = 3,4,5,'hj'      # no bracket required or t = (3,4,5,'hj')\n",
    "print(t)\n",
    "u = t,(1,9,4,11)    # nested tuple\n",
    "print(u)\n",
    "tt = (\"Hellow\",)    # single element use a comma\n",
    "print(tt)\n",
    "print(len(u))\n",
    "print(t[-1])\n",
    "a = t + tt\n",
    "print(a)\n",
    "print(tt*3)\n",
    "print(3 in t)\n",
    "print(3 not in t)\n",
    "del a               # delete whole tuple"
   ]
  },
  {
   "cell_type": "markdown",
   "id": "9019236c-ca41-4ae4-a724-b933afb50825",
   "metadata": {},
   "source": [
    "# Set  \n",
    "> - mutable-initial elements cannot be changed but can add and delete elements\n",
    "> - no duplicate element\n",
    "> - no index (no order)\n",
    "> - Curly Brackets / Braces {}"
   ]
  },
  {
   "cell_type": "code",
   "execution_count": 6,
   "id": "b37683dc-f686-42b5-8834-46711e1c7132",
   "metadata": {},
   "outputs": [
    {
     "name": "stdout",
     "output_type": "stream",
     "text": [
      "{1, 2, 3, 4, 'hellow'}\n",
      "{1, 2, 3, 4, 6, 7, 8, 'hellow', 'hi'}\n",
      "{3, 4, 6, 7, 8, 'hellow', 'hi'}\n",
      "{3, 4, 5, 6, 7, 8, 'abbc', 'hellow', 'hi'}\n",
      "{3, 4, 5, 6, 7, 8, 'abbc', 'hellow', 'hi'}\n",
      "{3, 4, 6, 7, 8}\n",
      "{3, 4, 6, 7, 8}\n",
      "set()\n"
     ]
    }
   ],
   "source": [
    "s = {1,2,3,4,\"hellow\"}\n",
    "print(s)\n",
    "s.add(\"hi\")        # add element\n",
    "s.update({6,7,8})  # add multiple elements\n",
    "print(s)\n",
    "s.remove(1)        # remove 1 and error if not found\n",
    "s.discard(2)       # remove 2 and no error if not found\n",
    "print(s)\n",
    "# union\n",
    "a = {3,4,5,6,7,8,\"abbc\"}\n",
    "b = s.union(a)\n",
    "print(b)\n",
    "c = s | a\n",
    "print(c)\n",
    "# intersection\n",
    "d = s & a\n",
    "print(d)\n",
    "e = s.intersection(a)\n",
    "print(e)\n",
    "e.clear()          # Delete all elemnets\n",
    "print(e)  \n",
    "del e              # completely deleted"
   ]
  },
  {
   "cell_type": "markdown",
   "id": "b228ff44-c379-4bac-957e-66d16167eb67",
   "metadata": {},
   "source": [
    "# Dictionary\n",
    "> -  no duplicate\n",
    "> - other same as list\n",
    "> - Curly Brackets{}"
   ]
  },
  {
   "cell_type": "code",
   "execution_count": 3,
   "id": "0a038b87-e660-4d07-9b37-a812b00e85b4",
   "metadata": {},
   "outputs": [
    {
     "name": "stdout",
     "output_type": "stream",
     "text": [
      "{'k1': 'val1', 'k2': 'val2', 'k3': 'val3', 'k4': 'val4'}\n",
      "val3\n",
      "dict_keys(['k1', 'k2', 'k3', 'k4'])\n",
      "dict_values(['val1', 'val2', 'val3', 'val4'])\n",
      "dict_items([('k1', 'val1'), ('k2', 'val2'), ('k3', 'val3'), ('k4', 'val4')])\n",
      "True\n",
      "5\n",
      "{'k1': 5, 'k2': 'val2', 'k3': 'val3', 'k4': 'val4', 5: True, 6: 'abc'}\n",
      "{'k1': 5, 'k2': 'val2', 'k3': 'val3', 'k4': 'val4'}\n",
      "{}\n"
     ]
    }
   ],
   "source": [
    "d = {\"k1\":\"val1\",\"k2\":\"val2\",\"k3\":\"val3\",\"k4\":\"val4\",\"k4\":\"val4\"}\n",
    "print(d)\n",
    "print(d[\"k3\"])\n",
    "print(d.keys())\n",
    "print(d.values())\n",
    "print(d.items())\n",
    "print(\"k1\" in d)\n",
    "d[\"k1\"] = 5\n",
    "print(d[\"k1\"])\n",
    "d.update({5:True,6:\"abc\"}) # add element and key\n",
    "print(d)\n",
    "d.pop(5)           # delete the key and item associated \n",
    "d.popitem()        # delete last element \n",
    "print(d)\n",
    "d.clear()\n",
    "print(d)\n",
    "del d"
   ]
  },
  {
   "cell_type": "markdown",
   "id": "627545fc-959f-457b-af4d-d327fdb43fc0",
   "metadata": {},
   "source": [
    "# Conditional statemnets\n",
    "> The tab after a conditional statement or loop known as **Indentation** "
   ]
  },
  {
   "cell_type": "code",
   "execution_count": 19,
   "id": "0e2aa316-77ff-4eb9-bec1-2fbeebbfd0c7",
   "metadata": {},
   "outputs": [
    {
     "name": "stdout",
     "output_type": "stream",
     "text": [
      "True 1\n",
      "True\n",
      "0 2 4 6 8 \n",
      "Loop ended\n"
     ]
    }
   ],
   "source": [
    "a=5\n",
    "b=6\n",
    "\"\"\"\n",
    "mulitiple line\n",
    "comment\n",
    "\"\"\"\n",
    "if a==5 and b==6:                 # comment-> single line\n",
    "    print(\"True 1\")\n",
    "elif a==b or a>=b:                 \n",
    "    print(\"True 2\")\n",
    "else:\n",
    "    print(\"False\")\n",
    "print(not(a>b))                   # not operation\n",
    "for i in range(0,10,2):\n",
    "    print(i,end=\" \")\n",
    "else:\n",
    "    print(\"\\nLoop ended\")         # for loop can have a else statement\n",
    "for i in range(10):\n",
    "    pass                          # If loop have no body using a pass can prevent any errors"
   ]
  },
  {
   "cell_type": "code",
   "execution_count": 9,
   "id": "3e94c7be-5e8a-473f-9e6c-6ef918bde51b",
   "metadata": {},
   "outputs": [
    {
     "name": "stdout",
     "output_type": "stream",
     "text": [
      "Enter the age : 25\n"
     ]
    },
    {
     "name": "stdout",
     "output_type": "stream",
     "text": [
      "Adult\n",
      "Out of \"if-else\" statement.\n"
     ]
    }
   ],
   "source": [
    "age = int(input(\"Enter the age :\")) # validation int()\n",
    "if age > 17 :\n",
    "    print(\"Adult\")\n",
    "else :\n",
    "    print(\"Not Adult\")\n",
    "print(\"Out of \\\"if-else\\\" statement.\")"
   ]
  },
  {
   "cell_type": "markdown",
   "id": "f9dbbad9-d840-4c80-9245-9d680b7004b3",
   "metadata": {},
   "source": [
    "# Match \n",
    "> __same as switch__"
   ]
  },
  {
   "cell_type": "code",
   "execution_count": 4,
   "id": "51ae1004-0f0f-43a1-82ba-1e92075e33e8",
   "metadata": {},
   "outputs": [
    {
     "name": "stdout",
     "output_type": "stream",
     "text": [
      "Enter a number :  2\n"
     ]
    },
    {
     "name": "stdout",
     "output_type": "stream",
     "text": [
      "Working Day\n"
     ]
    }
   ],
   "source": [
    "day = 8\n",
    "while day>7:\n",
    "    day = int(input(\"Enter a number : \"))\n",
    "    match day:\n",
    "        case 1:\n",
    "            print(\"Sunday\")\n",
    "        case 2 | 3 | 4 | 5 | 6:\n",
    "            print(\"Working Day\")\n",
    "        case 7:\n",
    "            print(\"Saturday\")\n",
    "        case _:\n",
    "            print(\"Please enter a valid number! (Between 1 to 7)\")\n"
   ]
  },
  {
   "cell_type": "markdown",
   "id": "559a5e75-6922-45c7-b666-71464fdb13ff",
   "metadata": {},
   "source": [
    "# Lambda Function\n",
    ">  Small anonymous function typically used for short, simple functions that are not reused elsewhere in your code."
   ]
  },
  {
   "cell_type": "code",
   "execution_count": 18,
   "id": "dd67ad04-0878-49d1-be68-67b76770404e",
   "metadata": {},
   "outputs": [
    {
     "name": "stdout",
     "output_type": "stream",
     "text": [
      "14\n",
      "15\n",
      "30\n"
     ]
    }
   ],
   "source": [
    "add = lambda x,y:x+y\n",
    "print(add(5,9))\n",
    "add10 = lambda a:a+10\n",
    "print(add10(5))\n",
    "# example -a function that triple any values\n",
    "def my_tri(n):\n",
    "    return lambda a: a*n\n",
    "num = my_tri(3)\n",
    "print(num(10))"
   ]
  },
  {
   "cell_type": "markdown",
   "id": "64c877f4-ccd2-4524-a330-ee5b89902b1a",
   "metadata": {},
   "source": [
    "# Break and Continue "
   ]
  },
  {
   "cell_type": "code",
   "execution_count": 20,
   "id": "11a0f4fa-ca16-48ed-8509-e86547fad014",
   "metadata": {},
   "outputs": [
    {
     "name": "stdout",
     "output_type": "stream",
     "text": [
      "10  9  8  7  6  \n",
      "\n",
      "10  9  8  7  6  4  3  2  1  0  \n",
      "Completed while loop with value of i as 0\n"
     ]
    }
   ],
   "source": [
    "i = 10\n",
    "while i >= 1:\n",
    "    if i == 5:\n",
    "        break       # end all loops it is inside of\n",
    "    else:\n",
    "        print(i,end=\"  \")\n",
    "    i -= 1\n",
    "i = 11\n",
    "print(\"\\n\")\n",
    "while i >= 1:\n",
    "    i -= 1\n",
    "    if i == 5:\n",
    "        continue   # end curent itteration and start the next one(skip one step)\n",
    "    else:\n",
    "        print(i,end=\"  \")\n",
    "else :             # while can have else as there is no do while in python\n",
    "    print(f\"\\nCompleted while loop with value of i as {i}\")"
   ]
  },
  {
   "cell_type": "markdown",
   "id": "7a9f0d01-4a11-4ab1-a1d2-5457b6df74a8",
   "metadata": {},
   "source": [
    "# Functions"
   ]
  },
  {
   "cell_type": "code",
   "execution_count": 21,
   "id": "359a5837-f860-4637-912a-90784f6ea03a",
   "metadata": {},
   "outputs": [
    {
     "name": "stdout",
     "output_type": "stream",
     "text": [
      "Thomas Mathew\n",
      "21\n"
     ]
    }
   ],
   "source": [
    "def name(fname,lname):\n",
    "    fullname=fname + \" \" + lname\n",
    "    return fullname\n",
    "fullname = name(\"Thomas\",\"Mathew\")\n",
    "print(fullname)\n",
    "def rec(a):                   # recursion :- function that calls itself\n",
    "    if a>0:\n",
    "        res = a + rec(a-1)\n",
    "        # print(res)\n",
    "    else:\n",
    "        res = 0\n",
    "    return(res)\n",
    "print(rec(6))"
   ]
  },
  {
   "cell_type": "markdown",
   "id": "a2adcec6-2048-451e-909d-acdf27168843",
   "metadata": {},
   "source": [
    "## Arbitary Arguments, *args"
   ]
  },
  {
   "cell_type": "code",
   "execution_count": 24,
   "id": "588d69e5-23b0-41b3-a61c-c7a1fdaf98d0",
   "metadata": {},
   "outputs": [
    {
     "name": "stdout",
     "output_type": "stream",
     "text": [
      "Selected Vavva\n"
     ]
    }
   ],
   "source": [
    "def selection(*kid):                   \n",
    "    print(\"Selected\",kid[2])\n",
    "selection(\"Aju\",\"Appu\",\"Vavva\",\"Kunj\")"
   ]
  },
  {
   "cell_type": "markdown",
   "id": "80a37398-e41a-4f01-8ae8-5268a1bc6c0a",
   "metadata": {},
   "source": [
    "## Keyword Arguments\n",
    ">send arguments with the key = value syntax."
   ]
  },
  {
   "cell_type": "code",
   "execution_count": 27,
   "id": "1349ce35-362a-4df3-aed9-64b5e3ceeeaa",
   "metadata": {},
   "outputs": [
    {
     "name": "stdout",
     "output_type": "stream",
     "text": [
      "3\n",
      "2\n"
     ]
    }
   ],
   "source": [
    "def s(a1,a2,a3):\n",
    "    print(a3)\n",
    "s(a3 = 3,a2 = 2,a1 = 1)\n",
    "def ss(**a):       # can give Arbitrary Keyword Arguments, **kwargs\n",
    "    print(a['a2'])\n",
    "ss(a1 = 1,a2 = 2,a3 = 3)\n"
   ]
  },
  {
   "cell_type": "markdown",
   "id": "439647b0-7ce1-4773-a9ba-abdf2da13b75",
   "metadata": {},
   "source": [
    "## Other function types"
   ]
  },
  {
   "cell_type": "code",
   "execution_count": 23,
   "id": "3934dee9-ea32-47a6-8212-b7904ad4a0b4",
   "metadata": {},
   "outputs": [
    {
     "name": "stdout",
     "output_type": "stream",
     "text": [
      "5\n",
      "23\n",
      "123 344 456 678 890 "
     ]
    }
   ],
   "source": [
    "def s(a = \"23\"):    # default value will be taken if argument is empty\n",
    "    print(a)\n",
    "s(5)\n",
    "s() \n",
    "def a(b):           # list as parameters\n",
    "    for i in b:\n",
    "        print(i,end=\" \")\n",
    "c = [123,344,456,678,890]\n",
    "a(c)"
   ]
  },
  {
   "cell_type": "markdown",
   "id": "59ca205f-8610-4c65-8db8-4be805c3bdb9",
   "metadata": {},
   "source": [
    "# Python Classes and Objects\n",
    "\n",
    "**Class** \n",
    ">Blueprint or template for creating an object.  \n",
    ">- Attributes (data)  \n",
    ">- Methods (functions that act on the data)\n",
    "\n",
    "**Object**  \n",
    ">An instance of a class. It holds actual data and can use the class methods."
   ]
  },
  {
   "cell_type": "markdown",
   "id": "86b46225-ed3a-432d-b14b-a1c60c5c49f9",
   "metadata": {},
   "source": [
    "## `__init__()` - Constructor \n",
    "> -  function to assign values to object properties, or other operations that are necessary to do when the object is being created.\n",
    "> -  executed when the class is being initiated.\n",
    "\n",
    "\n",
    "**Self Parameter**\n",
    "> -  The self parameter is a reference to the current instance of the class, and is used to access variables that belong to the class.\n",
    "> -  It does not have to be named self, you can call it whatever you like, but it has to be the first parameter of any function in the class"
   ]
  },
  {
   "cell_type": "code",
   "execution_count": 3,
   "id": "04eca2fb-ba1b-49c3-a6de-69fde99b8c2f",
   "metadata": {},
   "outputs": [
    {
     "name": "stdout",
     "output_type": "stream",
     "text": [
      "Sayees\n",
      "Male\n",
      "21\n",
      "New name : Zoro\n",
      "<__main__.human object at 0x000002BEF3C0AFD0>\n"
     ]
    }
   ],
   "source": [
    "class human:\n",
    "    def __init__(self, name, sex, age):\n",
    "        self.name = name            # -> proprties name, sex, age\n",
    "        self.sex = sex\n",
    "        self.age = age\n",
    "person = human(\"Sayees\",\"Male\",21)\n",
    "print(person.name)\n",
    "print(person.sex)\n",
    "print(person.age)\n",
    "person.name = \"Zoro\"  # modify object properties\n",
    "print(\"New name :\",person.name)\n",
    "print(person)         # can't print this way\n",
    "class mmm:\n",
    "    pass              # pass the class, no error even tho no body for class"
   ]
  },
  {
   "cell_type": "code",
   "execution_count": 4,
   "id": "eb3212d2-2c08-4fee-97c9-edd012df02e3",
   "metadata": {},
   "outputs": [
    {
     "name": "stdout",
     "output_type": "stream",
     "text": [
      "Muhammed is a Male, 25 year's old.\n"
     ]
    }
   ],
   "source": [
    "class human:\n",
    "    def __init__(self, name, sex, age):\n",
    "        self.name = name\n",
    "        self.sex = sex\n",
    "        self.age = age\n",
    "    def __str__(self):             # function defines what to print when the object is printed\n",
    "        return f\"{self.name} is a {self.sex}, {self.age} year's old.\"     \n",
    "p1 = human(\"Muhammed\",\"Male\",25)\n",
    "print(p1)"
   ]
  },
  {
   "cell_type": "markdown",
   "id": "4b9b50b2-22e5-4ab5-84e2-c1a3a98313ab",
   "metadata": {},
   "source": [
    "## Object Methods\n",
    "> - Can access or modify object state."
   ]
  },
  {
   "cell_type": "code",
   "execution_count": 39,
   "id": "6c72d8cc-4e92-4b6b-8cfa-60d4704be0a2",
   "metadata": {},
   "outputs": [
    {
     "name": "stdout",
     "output_type": "stream",
     "text": [
      "Zoro is inside the object function\n"
     ]
    }
   ],
   "source": [
    "class hum:\n",
    "    def __init__(per, name, age):     # self or any name preffered \n",
    "        per.name = name\n",
    "        per.age = age\n",
    "    def func(per):\n",
    "        print(f\"{per.name} is inside the object function\")\n",
    "p1 = hum(\"Zoro\",25)\n",
    "p1.func()\n",
    "del p1.name    # delete object property\n",
    "del p1         # delete object"
   ]
  },
  {
   "cell_type": "markdown",
   "id": "11e5b3ac-e816-41fd-b405-8c8bd60f6f68",
   "metadata": {},
   "source": [
    "## Class Method\n",
    "> - Can access/modify class-level data, not instance data."
   ]
  },
  {
   "cell_type": "code",
   "execution_count": 45,
   "id": "62207d8f-df2f-4174-955b-10f34f6cbd63",
   "metadata": {},
   "outputs": [
    {
     "name": "stdout",
     "output_type": "stream",
     "text": [
      "Count = 25\n"
     ]
    }
   ],
   "source": [
    "class hum:\n",
    "    cont = 25     # class level data\n",
    "    \n",
    "    @classmethod   # must define\n",
    "    def print_c(cls, a):\n",
    "        cls.count = a\n",
    "        print(f\"Count = {cls.count}\")\n",
    "hum.print_c(25)"
   ]
  },
  {
   "cell_type": "markdown",
   "id": "958b56c5-5997-4303-95d4-aad3dd55dd65",
   "metadata": {},
   "source": [
    "## Static Methods\n",
    "> - Behave like regular functions inside a class.\n",
    "> - Don’t take self or cls."
   ]
  },
  {
   "cell_type": "code",
   "execution_count": 42,
   "id": "fe47103f-1f19-4355-8ba2-c7705e69ea9c",
   "metadata": {},
   "outputs": [
    {
     "name": "stdout",
     "output_type": "stream",
     "text": [
      "75\n"
     ]
    }
   ],
   "source": [
    "class hum:\n",
    "    @staticmethod\n",
    "    def add(a, b):\n",
    "        return a + b\n",
    "\n",
    "print(hum.add(35,40))"
   ]
  },
  {
   "cell_type": "markdown",
   "id": "d5221177-36f0-40a0-a7dc-e403729af864",
   "metadata": {},
   "source": [
    "# Inheritance "
   ]
  },
  {
   "cell_type": "code",
   "execution_count": 50,
   "id": "4e680def-01f1-4262-a8b7-2a35fceab74e",
   "metadata": {},
   "outputs": [
    {
     "name": "stdout",
     "output_type": "stream",
     "text": [
      "Freddy Mercury\n"
     ]
    }
   ],
   "source": [
    "class human:\n",
    "    def __init__(self, fname, lname):\n",
    "        self.fname = fname\n",
    "        self.lname = lname\n",
    "    def print_n(self):\n",
    "        print(self.fname,self.lname)\n",
    "\n",
    "class student(human):                      # child class declaration; here parent class = human & child class = student\n",
    "    pass\n",
    "p1 = student(\"Freddy\",\"Mercury\")\n",
    "p1.print_n()"
   ]
  },
  {
   "cell_type": "code",
   "execution_count": 52,
   "id": "6777f7b1-377d-41da-b95e-4cc7c56db414",
   "metadata": {},
   "outputs": [
    {
     "name": "stdout",
     "output_type": "stream",
     "text": [
      "Freddy Mercury\n"
     ]
    }
   ],
   "source": [
    "class human:\n",
    "    def __init__(self, fname, lname):\n",
    "        self.fname = fname\n",
    "        self.lname = lname\n",
    "    def print_n(self):\n",
    "        print(self.fname,self.lname)\n",
    "\n",
    "class student(human):                     \n",
    "    def __init__(self, fname, lname, school):  # child __init__() overides the parent function\n",
    "        self.fname = fname\n",
    "        self.lname = lname\n",
    "        self.school = school\n",
    "p1 = student(\"Freddy\",\"Mercury\",\"Cbse\")\n",
    "p1.print_n()"
   ]
  },
  {
   "cell_type": "markdown",
   "id": "063772df-720c-4009-a330-6aa17b215428",
   "metadata": {},
   "source": [
    "## Super function"
   ]
  },
  {
   "cell_type": "code",
   "execution_count": 58,
   "id": "b2a94484-a678-4431-a612-1f09a78d072b",
   "metadata": {},
   "outputs": [
    {
     "name": "stdout",
     "output_type": "stream",
     "text": [
      "Freddy Mercury is studying in Cbse\n"
     ]
    }
   ],
   "source": [
    "class human:\n",
    "    def __init__(self, fname, lname):\n",
    "        self.fname = fname\n",
    "        self.lname = lname\n",
    "    def printn(self):\n",
    "        print(self.fname,self.lname)\n",
    "class student(human):                     \n",
    "    def __init__(self, fname, lname, school): \n",
    "        super().__init__(fname,lname)             # Call the parent class constructor\n",
    "        self.school = school\n",
    "    def pri(self):\n",
    "        print(self.fname,self.lname,\"is studying in\",self.school)\n",
    "        \n",
    "p1 = student(\"Freddy\",\"Mercury\",\"Cbse\")\n",
    "p1.pri()"
   ]
  },
  {
   "cell_type": "markdown",
   "id": "ab605753-3dca-4a2d-bda4-bd9ad8ef2e25",
   "metadata": {},
   "source": [
    "# Iteratos\n",
    "> - The `__iter__()` method acts similarly; you can perform operations (like initialization), but it must always return the iterator object itself.\n",
    "\n",
    "> - The `__next__()` method also allows you to perform operations and must return the next item in the sequence.\n"
   ]
  },
  {
   "cell_type": "code",
   "execution_count": 65,
   "id": "a1c92f30-c81a-4bc9-846e-393e42a50d01",
   "metadata": {},
   "outputs": [
    {
     "name": "stdout",
     "output_type": "stream",
     "text": [
      "Apple\n",
      "Orange\n",
      "Banana\n",
      "Apple\n",
      "Orange\n",
      "Banana\n",
      "a\n",
      "b\n",
      "c\n",
      "d\n"
     ]
    }
   ],
   "source": [
    "l = [\"Apple\",\"Orange\",\"Banana\"]\n",
    "it = iter(l)    # Built-in Iterator\n",
    "print(next(it))\n",
    "print(next(it))\n",
    "print(next(it))\n",
    "\n",
    "for i in l:    # Python handles the iterator automatically\n",
    "    print(i)\n",
    "a = \"abcd\"\n",
    "b = iter(a)\n",
    "print(next(b))\n",
    "print(next(b))\n",
    "print(next(b))\n",
    "print(next(b))"
   ]
  },
  {
   "cell_type": "code",
   "execution_count": 79,
   "id": "2b564ba9-3980-4a85-8c47-b81eec791a90",
   "metadata": {},
   "outputs": [
    {
     "name": "stdout",
     "output_type": "stream",
     "text": [
      "0 1 2 3 4 5 \n",
      "0 1 2 3 4 5 6 "
     ]
    }
   ],
   "source": [
    "class number:\n",
    "    def __init__(self, limit):\n",
    "        self.limit = limit\n",
    "    def __iter__(self):\n",
    "        self.count = -1  # can be also given in the init function\n",
    "        return self\n",
    "    def __next__(self):\n",
    "        if self.count < self.limit:\n",
    "            self.count +=1\n",
    "            return self.count\n",
    "        else :\n",
    "            raise StopIteration        # raise error\n",
    "c = number(5)\n",
    "for num in c:\n",
    "    print(num,end = \" \")\n",
    "print()\n",
    "myc = number(6)\n",
    "myiter = iter(myc)\n",
    "for i in myiter:\n",
    "    print(i,end=\" \")"
   ]
  },
  {
   "cell_type": "markdown",
   "id": "65d9386f-2bd4-47aa-a10f-78d7e5e8bc9d",
   "metadata": {},
   "source": [
    "# Polymorphism\n",
    "> - In programming it refers to methods/functions/operators with the same name that can be executed on many objects or classes.\n",
    "> - Example: **len()** - return length of string, number of elements in tuple and no of key-value pairs in dictionary. "
   ]
  },
  {
   "cell_type": "code",
   "execution_count": 87,
   "id": "b3030a9b-2948-439a-a175-43d2e01f3340",
   "metadata": {},
   "outputs": [
    {
     "name": "stdout",
     "output_type": "stream",
     "text": [
      "Drive\n",
      "Sail\n",
      "Fly\n"
     ]
    }
   ],
   "source": [
    "class car:\n",
    "    def __init__(self, name, brand):\n",
    "        self.name = name\n",
    "        self.brand = brand\n",
    "    def move(self):\n",
    "        print(\"Drive\")\n",
    "class boat:\n",
    "    def __init__(self,name,brand):\n",
    "        self.name = name\n",
    "        self.brand = brand\n",
    "    def move(self):\n",
    "        print(\"Sail\")\n",
    "class plane:\n",
    "    def __init__(self,name,brand):\n",
    "        self.name = name\n",
    "        self.brand = brand\n",
    "    def move(self):\n",
    "        print(\"Fly\")\n",
    "\n",
    "car1 = car(\"Aulto\",\"Suzuki\")\n",
    "boat1 = boat(\"Ibiza\", \"Touring 20\") \n",
    "plane1 = plane(\"Boeing\", \"747\")  \n",
    "for i in (car1,boat1,plane1):\n",
    "    i.move()"
   ]
  },
  {
   "cell_type": "markdown",
   "id": "f6e3fb08-157a-4edf-8c91-8793f6c4ec82",
   "metadata": {},
   "source": [
    "## Polymorphism in Inheritance "
   ]
  },
  {
   "cell_type": "code",
   "execution_count": 91,
   "id": "5eabd45f-9738-45e5-9714-43c25866040e",
   "metadata": {},
   "outputs": [
    {
     "name": "stdout",
     "output_type": "stream",
     "text": [
      "Aulto - Suzuki\n",
      "Drive\n",
      "Ibiza - Touring 20\n",
      "Sail\n",
      "Boeing - 747\n",
      "Fly\n"
     ]
    }
   ],
   "source": [
    "class transport:                      # Parent class\n",
    "    def __init__(self, name, brand):\n",
    "        self.name = name\n",
    "        self.brand = brand\n",
    "    def move(self):\n",
    "        print(\"Drive\")\n",
    "class car(transport):                 # Child class 1\n",
    "    pass\n",
    "class boat(transport):                # Child class 2\n",
    "    def move(self):\n",
    "        print(\"Sail\")\n",
    "class plane(transport):               # Child class 3\n",
    "    def move(self):\n",
    "        print(\"Fly\")\n",
    "car1 = car(\"Aulto\",\"Suzuki\")\n",
    "boat1 = boat(\"Ibiza\", \"Touring 20\") \n",
    "plane1 = plane(\"Boeing\", \"747\")  \n",
    "for i in (car1,boat1,plane1):\n",
    "    print(i.name,\"-\",i.brand)\n",
    "    i.move()"
   ]
  },
  {
   "cell_type": "markdown",
   "id": "920600c5-36fe-4276-829f-71ec2e05bbb9",
   "metadata": {},
   "source": [
    "# Python Scope\n",
    "## Local Scope\n",
    "> A variable created inside a function belongs to the local scope of that function, and can only be used inside that function.\n",
    "## Global Scope\n",
    "> A variable created in the main body of the Python code is a global variable and belongs to the global scope.\n",
    "> Global variables are available from within any scope, global and local.\n",
    "## Global Keyword\n",
    "> - If you need to create a global variable, but are stuck in the local scope, you can use the **global** keyword.\n",
    "> - The global keyword makes the variable global.\n",
    "> - Use the global keyword if you want to make a change to a global variable inside a function.\n",
    "## Nonlocal Keyword\n",
    "> - The **nonlocal** keyword is used to work with variables inside nested functions.\n",
    "> - The nonlocal keyword makes the variable belong to the outer function."
   ]
  },
  {
   "cell_type": "code",
   "execution_count": 98,
   "id": "fa5b41f4-baeb-43cb-9f35-acf3219c1dbf",
   "metadata": {},
   "outputs": [
    {
     "name": "stdout",
     "output_type": "stream",
     "text": [
      "500\n",
      "300\n",
      "300\n"
     ]
    }
   ],
   "source": [
    "x = 500\n",
    "print(x)\n",
    "def fun():\n",
    "    global x\n",
    "    x = 300\n",
    "    print(x)\n",
    "fun()\n",
    "print(x)"
   ]
  },
  {
   "cell_type": "code",
   "execution_count": 101,
   "id": "e6095122-83fd-48f0-afb7-2636b2f50b75",
   "metadata": {},
   "outputs": [
    {
     "name": "stdout",
     "output_type": "stream",
     "text": [
      "Hello\n",
      "Hi\n",
      "Hi\n"
     ]
    }
   ],
   "source": [
    "def fun():\n",
    "    x = \"Hello\"\n",
    "    print(x)\n",
    "    def fun1():\n",
    "        nonlocal x\n",
    "        x = \"Hi\"\n",
    "        print(x)\n",
    "    fun1()\n",
    "    return x\n",
    "print(fun())"
   ]
  },
  {
   "cell_type": "code",
   "execution_count": null,
   "id": "b2ff28b7-3622-42b5-950d-bd191af438e6",
   "metadata": {},
   "outputs": [],
   "source": []
  },
  {
   "cell_type": "code",
   "execution_count": null,
   "id": "02f3e03b-5ed2-48b6-b2e6-c9ab64c7bfbb",
   "metadata": {},
   "outputs": [],
   "source": []
  },
  {
   "cell_type": "code",
   "execution_count": null,
   "id": "6d88aa80-201d-4073-92f8-aa52dfef2927",
   "metadata": {},
   "outputs": [],
   "source": []
  },
  {
   "cell_type": "code",
   "execution_count": null,
   "id": "b07f9024-8a7b-40be-92c2-3cc0d2d0d5a4",
   "metadata": {},
   "outputs": [],
   "source": []
  },
  {
   "cell_type": "code",
   "execution_count": null,
   "id": "1bd72a7e-47ec-4bd5-b122-5a5d5918b97d",
   "metadata": {},
   "outputs": [],
   "source": []
  },
  {
   "cell_type": "code",
   "execution_count": null,
   "id": "dc3a570c-0d64-499c-96f6-f12fed452deb",
   "metadata": {},
   "outputs": [],
   "source": []
  },
  {
   "cell_type": "code",
   "execution_count": null,
   "id": "49bb5b19-56ff-4bda-b49d-bd587735d0a2",
   "metadata": {},
   "outputs": [],
   "source": []
  },
  {
   "cell_type": "code",
   "execution_count": null,
   "id": "f0a6685d-e139-4df2-9f21-89818146f3de",
   "metadata": {},
   "outputs": [],
   "source": []
  },
  {
   "cell_type": "code",
   "execution_count": null,
   "id": "58d5e9e9-d43f-43da-ad66-d5f15a4fd390",
   "metadata": {},
   "outputs": [],
   "source": []
  },
  {
   "cell_type": "code",
   "execution_count": null,
   "id": "cbe17669-d66f-4b30-a3eb-87a2506e4065",
   "metadata": {},
   "outputs": [],
   "source": []
  },
  {
   "cell_type": "code",
   "execution_count": null,
   "id": "730706ac-c4b1-43e1-8165-73147c44e93c",
   "metadata": {},
   "outputs": [],
   "source": []
  },
  {
   "cell_type": "code",
   "execution_count": null,
   "id": "6a25b0c5-0af2-4ce9-9822-f5710119d14b",
   "metadata": {},
   "outputs": [],
   "source": []
  }
 ],
 "metadata": {
  "kernelspec": {
   "display_name": "Python 3 (ipykernel)",
   "language": "python",
   "name": "python3"
  },
  "language_info": {
   "codemirror_mode": {
    "name": "ipython",
    "version": 3
   },
   "file_extension": ".py",
   "mimetype": "text/x-python",
   "name": "python",
   "nbconvert_exporter": "python",
   "pygments_lexer": "ipython3",
   "version": "3.11.5"
  }
 },
 "nbformat": 4,
 "nbformat_minor": 5
}
